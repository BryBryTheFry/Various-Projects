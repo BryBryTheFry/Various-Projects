{
 "cells": [
  {
   "cell_type": "code",
   "execution_count": 13,
   "id": "3f67dd71",
   "metadata": {},
   "outputs": [],
   "source": [
    "import cv2\n",
    "import mediapipe as mp"
   ]
  },
  {
   "cell_type": "code",
   "execution_count": 14,
   "id": "a9075388",
   "metadata": {},
   "outputs": [],
   "source": [
    "import math"
   ]
  },
  {
   "cell_type": "code",
   "execution_count": 15,
   "id": "045afa65",
   "metadata": {},
   "outputs": [],
   "source": [
    "from google.protobuf.json_format import MessageToDict"
   ]
  },
  {
   "cell_type": "code",
   "execution_count": 16,
   "id": "7f703481",
   "metadata": {},
   "outputs": [],
   "source": [
    "mpHands = mp.solutions.hands\n",
    "hands = mpHands.Hands(\n",
    "    static_image_mode=False,\n",
    "    model_complexity=1,\n",
    "    min_detection_confidence=0.75,\n",
    "    min_tracking_confidence=0.75,\n",
    "    max_num_hands=2)"
   ]
  },
  {
   "cell_type": "code",
   "execution_count": 17,
   "id": "3938d501",
   "metadata": {},
   "outputs": [],
   "source": [
    "mpDraw = mp.solutions.drawing_utils"
   ]
  },
  {
   "cell_type": "code",
   "execution_count": 21,
   "id": "244fbc76",
   "metadata": {},
   "outputs": [],
   "source": [
    "cap = cv2.VideoCapture(0)\n",
    "\n",
    "while True:\n",
    "\n",
    "    ret, image = cap.read()\n",
    "\n",
    "    if not ret:\n",
    "        break\n",
    "\n",
    "    mirrored_image = cv2.flip(image, 1)\n",
    "    \n",
    "    imgRGB = cv2.cvtColor(mirrored_image, cv2.COLOR_BGR2RGB)\n",
    "    \n",
    "    results = hands.process(imgRGB)\n",
    "    \n",
    "    if results.multi_hand_landmarks:\n",
    "        for handLms in results.multi_hand_landmarks:\n",
    "            fingerBases = []\n",
    "            fingerAverage = []\n",
    "            handBase = []\n",
    "            distanceBases = []\n",
    "        \n",
    "            for id, lm in enumerate(handLms.landmark):\n",
    "                h, w, c = mirrored_image.shape\n",
    "                cx, cy = int(lm.x * w), int(lm.y * h)\n",
    "                \n",
    "                if ((id == 5) or (id == 9)) or ((id == 13) or (id == 17)):\n",
    "                    fingerBases.append([cx, cy])\n",
    "                    \n",
    "                    if (id == 5) or (id == 17):\n",
    "                        distanceBases.append([cx, cy])\n",
    "                    \n",
    "                    #cv2.circle(mirrored_image, (cx, cy), 25, (255, 0, 255), cv2.FILLED)\n",
    "                    \n",
    "                elif id == 0:\n",
    "                    handBase.append([cx, cy])\n",
    "            \n",
    "            xAvg = 0\n",
    "            yAvg = 0\n",
    "            for i in range(0, len(fingerBases)):\n",
    "                xAvg += fingerBases[i][0]\n",
    "                yAvg += fingerBases[i][1]\n",
    "                \n",
    "            if len(distanceBases) == 2:\n",
    "                length = (math.sqrt((distanceBases[0][0] - distanceBases[1][0]) ** 2 + (distanceBases[0][1] - distanceBases[1][1]) ** 2))\n",
    "                distance = 38.2779 * (0.990764 ** length)\n",
    "            \n",
    "            fingerAverage.append([xAvg / len(fingerBases), yAvg / len(fingerBases)])\n",
    "            \n",
    "            #print(distance)\n",
    "            \n",
    "            for i in range(0, len(fingerAverage)):\n",
    "                cv2.circle(mirrored_image, (int((fingerAverage[i][0] + handBase[i][0]) / 2), int((fingerAverage[i][1] + handBase[i][1]) / 2)), int(distance), (255, 0, 255), cv2.FILLED)\n",
    "            \n",
    "            mpDraw.draw_landmarks(mirrored_image, handLms, mpHands.HAND_CONNECTIONS)\n",
    "            \n",
    "        \n",
    "    \n",
    "    cv2.imshow(\"Image\", mirrored_image)\n",
    "    key = cv2.waitKey(1)\n",
    "    if key == ord(\"q\"):\n",
    "        break\n",
    "\n",
    "cap.release()\n",
    "cv2.destroyAllWindows()"
   ]
  },
  {
   "cell_type": "code",
   "execution_count": 3,
   "id": "7a91882b",
   "metadata": {},
   "outputs": [],
   "source": [
    "import cv2\n",
    "import numpy as np"
   ]
  },
  {
   "cell_type": "code",
   "execution_count": 31,
   "id": "b430d1b3",
   "metadata": {},
   "outputs": [],
   "source": [
    "cap = cv2.VideoCapture(0)\n",
    "\n",
    "while True:\n",
    "\n",
    "    ret, image = cap.read()\n",
    "\n",
    "    if not ret:\n",
    "        break\n",
    "\n",
    "    mirrored_image = cv2.flip(image, 1)\n",
    "    \n",
    "    gray = cv2.cvtColor(mirrored_image, cv2.COLOR_BGR2GRAY)\n",
    "\n",
    "    # Find Canny edges\n",
    "    edged = cv2.Canny(gray, 100, 110)\n",
    "\n",
    "    # Finding Contours\n",
    "    # Use a copy of the image e.g. edged.copy()\n",
    "    # since findContours alters the image\n",
    "    contours, hierarchy = cv2.findContours(edged, \n",
    "        cv2.RETR_EXTERNAL, cv2.CHAIN_APPROX_NONE)\n",
    "\n",
    "    cv2.imshow('Canny Edges After Contouring', edged)\n",
    "\n",
    "    #print(\"Number of Contours found = \" + str(len(contours)))\n",
    "\n",
    "    # Draw all contours\n",
    "    # -1 signifies drawing all contours\n",
    "    cv2.drawContours(mirrored_image, contours, -1, (0, 255, 0), 3)\n",
    "\n",
    "    #cv2.imshow(\"Image\", mirrored_image)\n",
    "    key = cv2.waitKey(1)\n",
    "    if key == ord(\"q\"):\n",
    "        break\n",
    "\n",
    "cap.release()\n",
    "cv2.destroyAllWindows()"
   ]
  },
  {
   "cell_type": "code",
   "execution_count": null,
   "id": "2247946e",
   "metadata": {},
   "outputs": [],
   "source": []
  }
 ],
 "metadata": {
  "kernelspec": {
   "display_name": "py37",
   "language": "python",
   "name": "py37"
  },
  "language_info": {
   "codemirror_mode": {
    "name": "ipython",
    "version": 3
   },
   "file_extension": ".py",
   "mimetype": "text/x-python",
   "name": "python",
   "nbconvert_exporter": "python",
   "pygments_lexer": "ipython3",
   "version": "3.7.13"
  }
 },
 "nbformat": 4,
 "nbformat_minor": 5
}
